{
 "cells": [
  {
   "cell_type": "markdown",
   "id": "b54c02fd",
   "metadata": {},
   "source": [
    "# Importing Demographics Data\n",
    "\n",
    "* [Imports](#Imports)\n",
    "* [Function to Merge Excel Spreadsheets](#Function-to-Merge-Excel-Spreadsheets)\n",
    "\n",
    "## Imports"
   ]
  },
  {
   "cell_type": "code",
   "execution_count": null,
   "id": "11eabf7f",
   "metadata": {},
   "outputs": [],
   "source": [
    "import numpy as np\n",
    "import pandas as pd\n",
    "\n",
    "pd.set_option('display.max_columns', None)\n",
    "pd.set_option('display.max_rows', None)"
   ]
  },
  {
   "cell_type": "markdown",
   "id": "5461abff",
   "metadata": {},
   "source": [
    "## Function to Merge Excel Spreadsheets"
   ]
  },
  {
   "cell_type": "code",
   "execution_count": null,
   "id": "2bd29b32",
   "metadata": {},
   "outputs": [],
   "source": [
    "# list of states to loop through when applying function\n",
    "states = ['Alabama', 'Alaska', 'Arizona', 'Arkansas', \n",
    "          'California', 'Colorado', 'Connecticut', 'Delaware', \n",
    "          'District of Columbia', 'Florida', 'Georgia', 'Hawaii', \n",
    "          'Idaho', 'Illinois', 'Indiana', 'Iowa', 'Kansas', 'Kentucky', \n",
    "          'Louisiana', 'Maine', 'Maryland', 'Massachusetts', 'Michigan', \n",
    "          'Minnesota', 'Mississippi', 'Missouri', 'Montana', 'Nebraska', \n",
    "          'Nevada', 'New Hampshire', 'New Jersey', 'New Mexico', 'New York', \n",
    "          'North Carolina', 'North Dakota', 'Ohio', 'Oklahoma', 'Oregon', \n",
    "          'Pennsylvania', 'Rhode Island', 'South Carolina', 'South Dakota', \n",
    "          'Tennessee', 'Texas', 'Utah', 'Vermont', 'Virginia', 'Washington', \n",
    "          'West Virginia', 'Wisconsin', 'Wyoming']"
   ]
  },
  {
   "cell_type": "code",
   "execution_count": null,
   "id": "da4dce13",
   "metadata": {},
   "outputs": [],
   "source": [
    "# write a function to clean each excel file for each state\n",
    "# source: lab-excel-madness\n",
    "def clean_data(state):\n",
    "    file_path = f'../data/chr_all_states/2021 County Health Rankings {state} Data - v1.xlsx'\n",
    "    sheet_name = 'Ranked Measure Data'\n",
    "    df = pd.read_excel(file_path, sheet_name=sheet_name)\n",
    "    df.columns = df.iloc[0]\n",
    "    df.drop([0], inplace=True)\n",
    "    return df"
   ]
  },
  {
   "cell_type": "code",
   "execution_count": null,
   "id": "3f226421",
   "metadata": {},
   "outputs": [],
   "source": [
    "data_list = [clean_data(state) for state in states]"
   ]
  },
  {
   "cell_type": "code",
   "execution_count": null,
   "id": "c6d55001",
   "metadata": {},
   "outputs": [],
   "source": [
    "df = pd.concat(data_list, ignore_index=True)"
   ]
  },
  {
   "cell_type": "markdown",
   "id": "3e1ac328",
   "metadata": {},
   "source": [
    "Exporting Merged Data Set for Cleaning"
   ]
  },
  {
   "cell_type": "code",
   "execution_count": null,
   "id": "32150a78",
   "metadata": {},
   "outputs": [],
   "source": [
    "df.to_csv('../data/county_health_data_merged.csv', index=False)"
   ]
  }
 ],
 "metadata": {
  "kernelspec": {
   "display_name": "Python 3",
   "language": "python",
   "name": "python3"
  },
  "language_info": {
   "codemirror_mode": {
    "name": "ipython",
    "version": 3
   },
   "file_extension": ".py",
   "mimetype": "text/x-python",
   "name": "python",
   "nbconvert_exporter": "python",
   "pygments_lexer": "ipython3",
   "version": "3.8.8"
  }
 },
 "nbformat": 4,
 "nbformat_minor": 5
}
