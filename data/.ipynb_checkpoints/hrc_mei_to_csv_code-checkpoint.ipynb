{
 "cells": [
  {
   "cell_type": "code",
   "execution_count": 1,
   "id": "b47878ff",
   "metadata": {},
   "outputs": [],
   "source": [
    "import pandas as pd\n",
    "import numpy as np\n",
    "from tabula import read_pdf\n",
    "from tabula import convert_into\n",
    "\n"
   ]
  },
  {
   "cell_type": "code",
   "execution_count": 2,
   "id": "07277e44",
   "metadata": {},
   "outputs": [],
   "source": [
    "df = read_pdf('./MEI-2020-Final-2020.pdf', pages='all')"
   ]
  },
  {
   "cell_type": "code",
   "execution_count": 11,
   "id": "aab8badd",
   "metadata": {},
   "outputs": [
    {
     "data": {
      "text/plain": [
       "list"
      ]
     },
     "execution_count": 11,
     "metadata": {},
     "output_type": "execute_result"
    }
   ],
   "source": [
    "type(df)"
   ]
  },
  {
   "cell_type": "code",
   "execution_count": 9,
   "id": "7dff6fe4",
   "metadata": {},
   "outputs": [],
   "source": [
    "convert_into('./data/MEI-2020-Final-2020.pdf', './data/mei.csv', output_format='csv', pages='all')"
   ]
  },
  {
   "cell_type": "markdown",
   "id": "2c625085",
   "metadata": {},
   "source": [
    "At this point, I was able to open the CSV in Excel and edit from there to get a clean version"
   ]
  },
  {
   "cell_type": "code",
   "execution_count": null,
   "id": "34438b11",
   "metadata": {},
   "outputs": [],
   "source": []
  }
 ],
 "metadata": {
  "kernelspec": {
   "display_name": "Python 3",
   "language": "python",
   "name": "python3"
  },
  "language_info": {
   "codemirror_mode": {
    "name": "ipython",
    "version": 3
   },
   "file_extension": ".py",
   "mimetype": "text/x-python",
   "name": "python",
   "nbconvert_exporter": "python",
   "pygments_lexer": "ipython3",
   "version": "3.8.8"
  }
 },
 "nbformat": 4,
 "nbformat_minor": 5
}
